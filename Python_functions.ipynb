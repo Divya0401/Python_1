{
 "cells": [
  {
   "cell_type": "code",
   "execution_count": null,
   "metadata": {},
   "outputs": [],
   "source": [
    "# functions in python\n",
    "\n",
    "#A function is a block of code which only run when it is called - comes in effect only it is called\n",
    "#parameters ~ data passed to a function\n",
    "#a function can return data \n",
    "keyword for definiing a function - def \n",
    "\n",
    "#Conditions -\n",
    "    1) Defining a function (initial phase)\n",
    "    2)Calling a function (whenever necessary)"
   ]
  },
  {
   "cell_type": "code",
   "execution_count": 1,
   "metadata": {},
   "outputs": [],
   "source": [
    "#Creating a function -\n",
    "# A function case can only be declared in LOWER CASE as per the guidelines unlike class which has first word in capitals\n",
    "\n",
    "\n",
    "def first_function():\n",
    "    print(\"Hey there! I'm learning python.\")\n"
   ]
  },
  {
   "cell_type": "code",
   "execution_count": 3,
   "metadata": {},
   "outputs": [
    {
     "name": "stdout",
     "output_type": "stream",
     "text": [
      "Hey there! I'm learning python.\n"
     ]
    }
   ],
   "source": [
    "#calling the funtion \n",
    "\n",
    "first_function()"
   ]
  },
  {
   "cell_type": "raw",
   "metadata": {},
   "source": [
    "#Functions avoid repititive tasks\n",
    "#To Make codes automated, functions are used"
   ]
  },
  {
   "cell_type": "code",
   "execution_count": 5,
   "metadata": {},
   "outputs": [],
   "source": [
    "def name(fname):             #parameter passing (passing anything inside the function)\n",
    "    print(fname + \"Gupta\")\n",
    "    \n",
    "    #run "
   ]
  },
  {
   "cell_type": "code",
   "execution_count": 6,
   "metadata": {},
   "outputs": [
    {
     "name": "stdout",
     "output_type": "stream",
     "text": [
      "DivyaGupta\n"
     ]
    }
   ],
   "source": [
    "#calling the defind function - argument passing\n",
    "name('Divya') "
   ]
  },
  {
   "cell_type": "code",
   "execution_count": 7,
   "metadata": {},
   "outputs": [
    {
     "ename": "TypeError",
     "evalue": "name() missing 1 required positional argument: 'fname'",
     "output_type": "error",
     "traceback": [
      "\u001b[1;31m---------------------------------------------------------------------------\u001b[0m",
      "\u001b[1;31mTypeError\u001b[0m                                 Traceback (most recent call last)",
      "\u001b[1;32m<ipython-input-7-fdf87cbb0318>\u001b[0m in \u001b[0;36m<module>\u001b[1;34m\u001b[0m\n\u001b[0;32m      1\u001b[0m \u001b[1;31m# !!!! ERROR Example\u001b[0m\u001b[1;33m\u001b[0m\u001b[1;33m\u001b[0m\u001b[1;33m\u001b[0m\u001b[0m\n\u001b[0;32m      2\u001b[0m \u001b[1;33m\u001b[0m\u001b[0m\n\u001b[1;32m----> 3\u001b[1;33m \u001b[0mname\u001b[0m\u001b[1;33m(\u001b[0m\u001b[1;33m)\u001b[0m\u001b[1;33m\u001b[0m\u001b[1;33m\u001b[0m\u001b[0m\n\u001b[0m",
      "\u001b[1;31mTypeError\u001b[0m: name() missing 1 required positional argument: 'fname'"
     ]
    }
   ],
   "source": [
    "# !!!! ERROR Example for argument !!!\n",
    "\n",
    "name()"
   ]
  },
  {
   "cell_type": "code",
   "execution_count": 9,
   "metadata": {},
   "outputs": [
    {
     "name": "stdout",
     "output_type": "stream",
     "text": [
      "ABCGupta\n"
     ]
    }
   ],
   "source": [
    "name('ABC')"
   ]
  },
  {
   "cell_type": "code",
   "execution_count": null,
   "metadata": {},
   "outputs": [],
   "source": []
  }
 ],
 "metadata": {
  "kernelspec": {
   "display_name": "Python 3",
   "language": "python",
   "name": "python3"
  },
  "language_info": {
   "codemirror_mode": {
    "name": "ipython",
    "version": 3
   },
   "file_extension": ".py",
   "mimetype": "text/x-python",
   "name": "python",
   "nbconvert_exporter": "python",
   "pygments_lexer": "ipython3",
   "version": "3.7.3"
  }
 },
 "nbformat": 4,
 "nbformat_minor": 2
}
