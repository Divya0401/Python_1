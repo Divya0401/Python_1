{
 "cells": [
  {
   "cell_type": "code",
   "execution_count": 1,
   "metadata": {},
   "outputs": [
    {
     "data": {
      "text/plain": [
       "True"
      ]
     },
     "execution_count": 1,
     "metadata": {},
     "output_type": "execute_result"
    }
   ],
   "source": [
    "#in operator - Used to validate particular number/char/string availablity\n",
    "#operater that can verify directly and check the conditions\n",
    "\n",
    "order = ['pizza', 'brownie', 'shakes', 'pastry']\n",
    "'shakes' in order"
   ]
  },
  {
   "cell_type": "code",
   "execution_count": 2,
   "metadata": {},
   "outputs": [
    {
     "data": {
      "text/plain": [
       "False"
      ]
     },
     "execution_count": 2,
     "metadata": {},
     "output_type": "execute_result"
    }
   ],
   "source": [
    "'french fries' in order"
   ]
  },
  {
   "cell_type": "code",
   "execution_count": 6,
   "metadata": {},
   "outputs": [
    {
     "name": "stdout",
     "output_type": "stream",
     "text": [
      "Coke, don't forget to order coke\n"
     ]
    }
   ],
   "source": [
    "#not in operator\n",
    "\n",
    "order\n",
    "unorder = 'coke'\n",
    "\n",
    "if unorder not in order:\n",
    "    print(f\"{unorder.title()}, don't forget to order coke\")"
   ]
  },
  {
   "cell_type": "code",
   "execution_count": 11,
   "metadata": {},
   "outputs": [
    {
     "name": "stdout",
     "output_type": "stream",
     "text": [
      "Sorry, you're underage to make your vote count\n"
     ]
    }
   ],
   "source": [
    "# building a polling app\n",
    "\n",
    "age = 15\n",
    "if age >= 18:\n",
    "    print(\"Congrats, your vote is counted\")\n",
    "else:\n",
    "    print(\"Sorry, you're underage to make your vote count\")\n"
   ]
  },
  {
   "cell_type": "code",
   "execution_count": 12,
   "metadata": {},
   "outputs": [
    {
     "name": "stdout",
     "output_type": "stream",
     "text": [
      "Congrats, your vote is counted\n"
     ]
    }
   ],
   "source": [
    "age = 21\n",
    "if age >= 18:\n",
    "    print(\"Congrats, your vote is counted\")\n",
    "else:\n",
    "    print(\"Sorry, you're underage to make your vote count\")"
   ]
  },
  {
   "cell_type": "code",
   "execution_count": 16,
   "metadata": {},
   "outputs": [
    {
     "name": "stdout",
     "output_type": "stream",
     "text": [
      "unlocked\n"
     ]
    }
   ],
   "source": [
    "#similarly, we can use if-else in password unlocking also\n",
    "\n",
    "password = 'abcdefg'\n",
    "if password == 'abcdefg':\n",
    "    print('unlocked')\n",
    "else:\n",
    "    print('try again')"
   ]
  },
  {
   "cell_type": "code",
   "execution_count": null,
   "metadata": {},
   "outputs": [],
   "source": []
  }
 ],
 "metadata": {
  "kernelspec": {
   "display_name": "Python 3",
   "language": "python",
   "name": "python3"
  },
  "language_info": {
   "codemirror_mode": {
    "name": "ipython",
    "version": 3
   },
   "file_extension": ".py",
   "mimetype": "text/x-python",
   "name": "python",
   "nbconvert_exporter": "python",
   "pygments_lexer": "ipython3",
   "version": "3.7.3"
  }
 },
 "nbformat": 4,
 "nbformat_minor": 2
}
