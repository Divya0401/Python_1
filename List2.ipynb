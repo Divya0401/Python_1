{
 "cells": [
  {
   "cell_type": "code",
   "execution_count": null,
   "metadata": {},
   "outputs": [],
   "source": [
    "#changing, adding and removing the elements from the list"
   ]
  },
  {
   "cell_type": "code",
   "execution_count": 1,
   "metadata": {},
   "outputs": [
    {
     "name": "stdout",
     "output_type": "stream",
     "text": [
      "['Monday', 'Tuesday', 'Wednesday', 'Thursday']\n"
     ]
    }
   ],
   "source": [
    "#To change the elements from the list\n",
    "\n",
    "weekdays = ['Monday', 'Tuesday', 'Wednesday', 'Thursday']\n",
    "print(weekdays)"
   ]
  },
  {
   "cell_type": "code",
   "execution_count": 2,
   "metadata": {},
   "outputs": [
    {
     "name": "stdout",
     "output_type": "stream",
     "text": [
      "['Sunday', 'Tuesday', 'Wednesday', 'Thursday']\n"
     ]
    }
   ],
   "source": [
    "#changing element\n",
    "weekdays[0]= 'Sunday'\n",
    "print(weekdays)"
   ]
  },
  {
   "cell_type": "code",
   "execution_count": 5,
   "metadata": {},
   "outputs": [
    {
     "name": "stdout",
     "output_type": "stream",
     "text": [
      "['Sunday', 'Tuesday', 'Wednesday', 'Thursday', 'friday', 'Friday']\n"
     ]
    }
   ],
   "source": [
    "#adding element ~ Add Friday, Saturday to the list\n",
    "\n",
    "weekdays.append('Friday')\n",
    "print(weekdays)\n",
    "\n",
    "#append adds element at last index and only one element at a time(note)"
   ]
  },
  {
   "cell_type": "code",
   "execution_count": 7,
   "metadata": {},
   "outputs": [
    {
     "name": "stdout",
     "output_type": "stream",
     "text": [
      "['Sunday', 'Monday', 'Tuesday', 'Wednesday', 'Thursday', 'friday', 'Friday']\n"
     ]
    }
   ],
   "source": [
    "#add Monday to 1st index position\n",
    "\n",
    "weekdays.insert(1,'Monday')\n",
    "print(weekdays)"
   ]
  },
  {
   "cell_type": "code",
   "execution_count": 9,
   "metadata": {},
   "outputs": [
    {
     "name": "stdout",
     "output_type": "stream",
     "text": [
      "['Apple', 'Pineapple', 'Grapes', 'Orange']\n"
     ]
    }
   ],
   "source": [
    "#adding element to empty list\n",
    "\n",
    "fruits = []\n",
    "\n",
    "fruits.append('Apple')\n",
    "fruits.append('Pineapple')\n",
    "fruits.append('Grapes')\n",
    "fruits.append('Orange')\n",
    "\n",
    "print(fruits)"
   ]
  },
  {
   "cell_type": "code",
   "execution_count": 10,
   "metadata": {},
   "outputs": [
    {
     "name": "stdout",
     "output_type": "stream",
     "text": [
      "['Apple', 'Pineapple', 'Orange']\n"
     ]
    }
   ],
   "source": [
    "#removing element from the list - DELETE & POP\n",
    "\n",
    "del fruits[2]\n",
    "print(fruits)\n",
    "\n",
    "\n",
    "#pop do not delete element permanently but delete do\n",
    "#pop will create a separate list of deleted items"
   ]
  },
  {
   "cell_type": "code",
   "execution_count": 11,
   "metadata": {},
   "outputs": [
    {
     "data": {
      "text/plain": [
       "['Apple', 'Pineapple', 'Orange']"
      ]
     },
     "execution_count": 11,
     "metadata": {},
     "output_type": "execute_result"
    }
   ],
   "source": [
    "fruits"
   ]
  },
  {
   "cell_type": "code",
   "execution_count": 17,
   "metadata": {},
   "outputs": [
    {
     "name": "stdout",
     "output_type": "stream",
     "text": [
      "['porsche', 'bugatti', 'audi', 'jaguar']\n"
     ]
    }
   ],
   "source": [
    "cars = ['porsche', 'bugatti', 'audi', 'jaguar']\n",
    "print(cars)"
   ]
  },
  {
   "cell_type": "code",
   "execution_count": 18,
   "metadata": {},
   "outputs": [
    {
     "name": "stdout",
     "output_type": "stream",
     "text": [
      "['porsche', 'bugatti', 'audi']\n"
     ]
    }
   ],
   "source": [
    "poped_cars = cars.pop()\n",
    "print(cars)\n",
    "\n",
    "#here after every enter one element gets deleted"
   ]
  },
  {
   "cell_type": "code",
   "execution_count": 19,
   "metadata": {},
   "outputs": [
    {
     "name": "stdout",
     "output_type": "stream",
     "text": [
      "jaguar\n"
     ]
    }
   ],
   "source": [
    "print(poped_cars)\n",
    "\n",
    "#here above poped elements form a list"
   ]
  },
  {
   "cell_type": "code",
   "execution_count": null,
   "metadata": {},
   "outputs": [],
   "source": []
  }
 ],
 "metadata": {
  "kernelspec": {
   "display_name": "Python 3",
   "language": "python",
   "name": "python3"
  },
  "language_info": {
   "codemirror_mode": {
    "name": "ipython",
    "version": 3
   },
   "file_extension": ".py",
   "mimetype": "text/x-python",
   "name": "python",
   "nbconvert_exporter": "python",
   "pygments_lexer": "ipython3",
   "version": "3.7.3"
  }
 },
 "nbformat": 4,
 "nbformat_minor": 2
}
