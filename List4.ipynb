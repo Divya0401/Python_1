{
 "cells": [
  {
   "cell_type": "code",
   "execution_count": 27,
   "metadata": {},
   "outputs": [
    {
     "name": "stdout",
     "output_type": "stream",
     "text": [
      "['pooja', 'priya', 'prachi', 'parul', 'prerna']\n"
     ]
    }
   ],
   "source": [
    "#loops in python\n",
    "#for loop \n",
    "\n",
    "name = ['pooja', 'priya', 'prachi', 'parul', 'prerna']\n",
    "print(name)"
   ]
  },
  {
   "cell_type": "code",
   "execution_count": 28,
   "metadata": {
    "scrolled": true
   },
   "outputs": [
    {
     "name": "stdout",
     "output_type": "stream",
     "text": [
      "pooja\n",
      "priya\n",
      "prachi\n",
      "parul\n",
      "prerna\n"
     ]
    }
   ],
   "source": [
    "for names in name:\n",
    "    print(names)\n",
    "    \n",
    "#for loop syntax ~ for *temporary variable* in list*:*\n",
    "#(indentation)print(temp)\n",
    "#indentation-space consistency, indentation is nothing but tab"
   ]
  },
  {
   "cell_type": "code",
   "execution_count": 29,
   "metadata": {},
   "outputs": [
    {
     "name": "stdout",
     "output_type": "stream",
     "text": [
      "Pooja, Have a good day!\n",
      "Priya, Have a good day!\n",
      "Prachi, Have a good day!\n",
      "Parul, Have a good day!\n",
      "Prerna, Have a good day!\n"
     ]
    }
   ],
   "source": [
    " for x in name:\n",
    "        print(f\"{x.title()}, Have a good day!\")"
   ]
  },
  {
   "cell_type": "code",
   "execution_count": 35,
   "metadata": {},
   "outputs": [
    {
     "name": "stdout",
     "output_type": "stream",
     "text": [
      "A,Have a nice day!\n"
     ]
    }
   ],
   "source": [
    "for b in names:\n",
    "    print(f\"{x.title()},Have a nice day!\")"
   ]
  },
  {
   "cell_type": "code",
   "execution_count": 44,
   "metadata": {},
   "outputs": [
    {
     "name": "stdout",
     "output_type": "stream",
     "text": [
      "A,Hello\n",
      "How are you?,A.\n",
      "\n",
      "B,Hello\n",
      "How are you?,B.\n",
      "\n",
      "C,Hello\n",
      "How are you?,C.\n",
      "\n",
      "D,Hello\n",
      "How are you?,D.\n",
      "\n",
      "We're Fine\n"
     ]
    }
   ],
   "source": [
    "students = ['a', 'b', 'c', 'd']\n",
    "for x in students:\n",
    "    print(f\"{x.title()},Hello\")\n",
    "    print(f\"How are you?,{x.title()}.\\n\")\n",
    "    \n",
    "    \n",
    "print(\"We're Fine\")\n",
    "\n",
    "#we can use place holders in the end also.\n",
    "#\\n to split lines\n",
    "#last print does not come under loop and just adds its sentence at the end"
   ]
  },
  {
   "cell_type": "code",
   "execution_count": 46,
   "metadata": {},
   "outputs": [
    {
     "name": "stdout",
     "output_type": "stream",
     "text": [
      "1\n",
      "2\n",
      "3\n",
      "4\n",
      "5\n",
      "6\n",
      "7\n",
      "8\n",
      "9\n",
      "10\n",
      "11\n",
      "12\n",
      "13\n",
      "14\n",
      "15\n",
      "16\n",
      "17\n",
      "18\n",
      "19\n"
     ]
    }
   ],
   "source": [
    "#use of for loops \n",
    "#1 for making a numerical list\n",
    "\n",
    "for value in range(1,20):\n",
    "    print(value)\n",
    "    \n",
    "#value here is temporary variable\n",
    "#last number is always excluded so to print it we take a number more than it"
   ]
  },
  {
   "cell_type": "code",
   "execution_count": 47,
   "metadata": {},
   "outputs": [
    {
     "name": "stdout",
     "output_type": "stream",
     "text": [
      "[0, 1, 2, 3, 4, 5, 6, 7, 8, 9, 10, 11, 12, 13, 14, 15, 16, 17, 18, 19]\n"
     ]
    }
   ],
   "source": [
    "numbers = list(range(0,20))\n",
    "print(numbers)"
   ]
  },
  {
   "cell_type": "code",
   "execution_count": 50,
   "metadata": {},
   "outputs": [
    {
     "name": "stdout",
     "output_type": "stream",
     "text": [
      "[2, 4, 6, 8, 10, 12, 14, 16, 18, 20, 22, 24, 26, 28, 30, 32, 34]\n"
     ]
    }
   ],
   "source": [
    "#to print even numbers\n",
    "\n",
    "even_num = list(range(2,35,2))\n",
    "print(even_num)"
   ]
  },
  {
   "cell_type": "code",
   "execution_count": 51,
   "metadata": {},
   "outputs": [
    {
     "name": "stdout",
     "output_type": "stream",
     "text": [
      "[1, 6, 11, 16, 21, 26, 31]\n"
     ]
    }
   ],
   "source": [
    "num = list(range(1,35,5))\n",
    "print(num)\n",
    "\n",
    "#range syntax = range(startvalue,stopvalue,stepvalue)\n",
    "#stepvalue is the count by which we skip numbers\n",
    "#stepvalue can be skipped if not needed"
   ]
  },
  {
   "cell_type": "code",
   "execution_count": 52,
   "metadata": {},
   "outputs": [
    {
     "data": {
      "text/plain": [
       "1"
      ]
     },
     "execution_count": 52,
     "metadata": {},
     "output_type": "execute_result"
    }
   ],
   "source": [
    "#statistical operations:\n",
    "\n",
    "min(num)"
   ]
  },
  {
   "cell_type": "code",
   "execution_count": 53,
   "metadata": {},
   "outputs": [
    {
     "data": {
      "text/plain": [
       "31"
      ]
     },
     "execution_count": 53,
     "metadata": {},
     "output_type": "execute_result"
    }
   ],
   "source": [
    "max(num)"
   ]
  },
  {
   "cell_type": "code",
   "execution_count": 54,
   "metadata": {},
   "outputs": [
    {
     "data": {
      "text/plain": [
       "112"
      ]
     },
     "execution_count": 54,
     "metadata": {},
     "output_type": "execute_result"
    }
   ],
   "source": [
    "sum(num)"
   ]
  },
  {
   "cell_type": "code",
   "execution_count": null,
   "metadata": {},
   "outputs": [],
   "source": []
  }
 ],
 "metadata": {
  "kernelspec": {
   "display_name": "Python 3",
   "language": "python",
   "name": "python3"
  },
  "language_info": {
   "codemirror_mode": {
    "name": "ipython",
    "version": 3
   },
   "file_extension": ".py",
   "mimetype": "text/x-python",
   "name": "python",
   "nbconvert_exporter": "python",
   "pygments_lexer": "ipython3",
   "version": "3.7.3"
  }
 },
 "nbformat": 4,
 "nbformat_minor": 2
}
