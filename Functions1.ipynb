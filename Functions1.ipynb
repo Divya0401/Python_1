{
 "cells": [
  {
   "cell_type": "code",
   "execution_count": null,
   "metadata": {},
   "outputs": [],
   "source": [
    "#FUNCTIONS ~ Functions are blocks of organised, \"reusable\" code that is used to perform operation multiple times\n",
    "#It holds the concept of reusability\n",
    "#inside a function we can comment lines and these lines are called \"Docstrings\" (no use of #)\n",
    "#we can define Docstrings by using \"\""
   ]
  },
  {
   "cell_type": "code",
   "execution_count": null,
   "metadata": {},
   "outputs": [],
   "source": [
    "#Defining function\n",
    "#def is the keyword for it along with the function name and open paranthesis\n",
    "#For example ~def add(): \n",
    "\n",
    "\n",
    "Syntax of the function ~\n",
    "\n",
    "def functionname(parameters):   \n",
    "    \"DOCSTRING of function\"     #comment\n",
    "    logic needed\n",
    "    return [expression]\n",
    "\n",
    "1) Defining a function(above code) ----> Parameters Passing\n",
    "2) Function calling ----> Arguments Passing\n",
    "    "
   ]
  },
  {
   "cell_type": "code",
   "execution_count": 3,
   "metadata": {},
   "outputs": [
    {
     "name": "stdout",
     "output_type": "stream",
     "text": [
      "Values inside the function [6, 7, 8, 9, 0, [1, 2, 3, 4, 5]]\n",
      "Values outside the function\n"
     ]
    }
   ],
   "source": [
    "def changeme(mylist):\n",
    "    \"function creation\"\n",
    "    mylist.append([1,2,3,4,5]);\n",
    "    print('Values inside the function',mylist)\n",
    "    return\n",
    "\n",
    "mylist = [6,7,8,9,0]\n",
    "changeme(mylist)\n",
    "print(\"Values outside the function\")"
   ]
  },
  {
   "cell_type": "code",
   "execution_count": null,
   "metadata": {},
   "outputs": [],
   "source": []
  }
 ],
 "metadata": {
  "kernelspec": {
   "display_name": "Python 3",
   "language": "python",
   "name": "python3"
  },
  "language_info": {
   "codemirror_mode": {
    "name": "ipython",
    "version": 3
   },
   "file_extension": ".py",
   "mimetype": "text/x-python",
   "name": "python",
   "nbconvert_exporter": "python",
   "pygments_lexer": "ipython3",
   "version": "3.7.3"
  }
 },
 "nbformat": 4,
 "nbformat_minor": 2
}
