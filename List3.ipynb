{
 "cells": [
  {
   "cell_type": "code",
   "execution_count": 1,
   "metadata": {},
   "outputs": [
    {
     "name": "stdout",
     "output_type": "stream",
     "text": [
      "['Hema', 'Rekha', 'Jaya', 'Sushma']\n"
     ]
    }
   ],
   "source": [
    "#introduction to remove function\n",
    "\n",
    "name = ['Hema','Rekha','Jaya','Sushma']\n",
    "print(name)"
   ]
  },
  {
   "cell_type": "code",
   "execution_count": 3,
   "metadata": {},
   "outputs": [
    {
     "name": "stdout",
     "output_type": "stream",
     "text": [
      "['Hema', 'Rekha', 'Jaya']\n"
     ]
    }
   ],
   "source": [
    "name.remove('Sushma')\n",
    "print(name)"
   ]
  },
  {
   "cell_type": "code",
   "execution_count": 7,
   "metadata": {},
   "outputs": [
    {
     "name": "stdout",
     "output_type": "stream",
     "text": [
      "['Hema', 'Jaya', 'Rekha']\n",
      "trying to print original list\n",
      "['Hema', 'Jaya', 'Rekha']\n"
     ]
    }
   ],
   "source": [
    "name.sort()\n",
    "print(name)\n",
    "\n",
    "print('trying to print original list')\n",
    "print(name)"
   ]
  },
  {
   "cell_type": "code",
   "execution_count": null,
   "metadata": {},
   "outputs": [],
   "source": [
    "#sort function changes the list permanently"
   ]
  },
  {
   "cell_type": "code",
   "execution_count": 5,
   "metadata": {},
   "outputs": [
    {
     "name": "stdout",
     "output_type": "stream",
     "text": [
      "['tata', 'birla', 'ambani', 'mittal']\n",
      "This is the original list\n"
     ]
    }
   ],
   "source": [
    "names = ['tata', 'birla','ambani','mittal']\n",
    "print(names)\n",
    "print('This is the original list')"
   ]
  },
  {
   "cell_type": "code",
   "execution_count": 6,
   "metadata": {
    "scrolled": true
   },
   "outputs": [
    {
     "name": "stdout",
     "output_type": "stream",
     "text": [
      "['ambani', 'birla', 'mittal', 'tata']\n",
      "This is sorted list\n"
     ]
    }
   ],
   "source": [
    "print(sorted(names))\n",
    "print('This is sorted list')"
   ]
  },
  {
   "cell_type": "code",
   "execution_count": null,
   "metadata": {},
   "outputs": [],
   "source": [
    "#sorted function temporarily changes the list and original list remains the same"
   ]
  },
  {
   "cell_type": "code",
   "execution_count": 8,
   "metadata": {},
   "outputs": [
    {
     "name": "stdout",
     "output_type": "stream",
     "text": [
      "trying to print original list\n",
      "['tata', 'birla', 'ambani', 'mittal']\n"
     ]
    }
   ],
   "source": [
    "print('trying to print original list')\n",
    "print(names)"
   ]
  },
  {
   "cell_type": "code",
   "execution_count": 9,
   "metadata": {},
   "outputs": [
    {
     "name": "stdout",
     "output_type": "stream",
     "text": [
      "['Hema', 'Jaya', 'Rekha']\n",
      "['Rekha', 'Jaya', 'Hema']\n"
     ]
    }
   ],
   "source": [
    "#reversing a list\n",
    "print(name)\n",
    "\n",
    "name.reverse()\n",
    "print(name)"
   ]
  },
  {
   "cell_type": "code",
   "execution_count": 12,
   "metadata": {
    "scrolled": true
   },
   "outputs": [
    {
     "data": {
      "text/plain": [
       "4"
      ]
     },
     "execution_count": 12,
     "metadata": {},
     "output_type": "execute_result"
    }
   ],
   "source": [
    "#counting the elements in a list\n",
    "\n",
    "len(names)"
   ]
  },
  {
   "cell_type": "code",
   "execution_count": null,
   "metadata": {},
   "outputs": [],
   "source": []
  }
 ],
 "metadata": {
  "kernelspec": {
   "display_name": "Python 3",
   "language": "python",
   "name": "python3"
  },
  "language_info": {
   "codemirror_mode": {
    "name": "ipython",
    "version": 3
   },
   "file_extension": ".py",
   "mimetype": "text/x-python",
   "name": "python",
   "nbconvert_exporter": "python",
   "pygments_lexer": "ipython3",
   "version": "3.7.3"
  }
 },
 "nbformat": 4,
 "nbformat_minor": 2
}
